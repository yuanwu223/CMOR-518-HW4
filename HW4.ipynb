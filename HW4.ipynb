{
 "cells": [
  {
   "cell_type": "markdown",
   "metadata": {},
   "source": [
    "# Yuan Wu, CMOR518, Fall 2024\n",
    "# HW4.ipynb\n",
    "# Last modified: 10/10/2024 "
   ]
  },
  {
   "cell_type": "markdown",
   "metadata": {},
   "source": [
    "## 1. [100 points] "
   ]
  },
  {
   "cell_type": "code",
   "execution_count": 26,
   "metadata": {
    "scrolled": true
   },
   "outputs": [
    {
     "name": "stdout",
     "output_type": "stream",
     "text": [
      "Loss Function Value: 0.0004968270152311714\n"
     ]
    }
   ],
   "source": [
    "import numpy as np\n",
    "\n",
    "\n",
    "def sigmoid(x):\n",
    "    return 1 / (1 + np.exp(0.5-x))\n",
    "\n",
    "def sigmoid_derivative(x):\n",
    "    return sigmoid(x)-(sigmoid(x)**2)\n",
    "\n",
    "\n",
    "def neural(train, target, gamma, maxiter):\n",
    "    np.random.seed(0)  \n",
    "    \n",
    "    train = np.array(train)\n",
    "    target = np.array(target)\n",
    "\n",
    "    input_size = train.shape[1]\n",
    "    hidden_size = 25  \n",
    "    output_size = target.shape[1]\n",
    "    \n",
    "    V = np.random.rand(input_size, hidden_size)\n",
    "    W = np.random.rand(hidden_size, output_size)\n",
    "    \n",
    "    for i in range(maxiter):\n",
    "  \n",
    "        hidden_input = np.dot(train, V)\n",
    "        hidden_output = sigmoid(hidden_input)\n",
    "        \n",
    "        final_input = np.dot(hidden_output, W)\n",
    "        final_output = sigmoid(final_input)\n",
    "        \n",
    "        loss = 0.5 * np.sum((target - final_output) ** 2)\n",
    "        \n",
    "        output_error = final_output - target\n",
    "        output_delta = output_error * sigmoid_derivative(final_output)  \n",
    "        hidden_error = output_delta.dot(W.T)\n",
    "        hidden_delta = hidden_error * sigmoid_derivative(hidden_output)\n",
    "        \n",
    "        W -= gamma * hidden_output.T.dot(output_delta)\n",
    "        V -= gamma * train.T.dot(hidden_delta)\n",
    "        \n",
    "        \n",
    "    print(f\"Loss Function Value: {loss}\")\n",
    "   \n",
    "    \n",
    "    return V, W\n",
    "\n",
    "\n",
    "train_data = [\n",
    "    [1, 1, 1, 1, 1, 1, 0, 0, 0, 1, 1, 0, 0, 0, 0, 1, 0, 0, 0, 0, 1, 0, 0, 0, 0],  # r\n",
    "    [1, 1, 1, 0, 0, 0, 1, 0, 0, 0, 0, 1, 0, 1, 1, 0, 0, 0, 1, 1, 0, 0, 0, 1, 1],  # i\n",
    "    [1, 1, 1, 1, 1, 1, 0, 0, 0, 0, 1, 1, 0, 0, 0, 1, 1, 0, 0, 1, 1, 0, 0, 0, 0],  # c\n",
    "    [1, 0, 0, 0, 1, 1, 0, 1, 1, 0, 1, 0, 0, 0, 1, 1, 0, 1, 1, 0, 1, 0, 1, 0, 1]   # e\n",
    "]\n",
    "\n",
    "target_data = [\n",
    "    [0, 0],  # r\n",
    "    [0, 1],  # i\n",
    "    [1, 0],  # c\n",
    "    [1, 1]   # e\n",
    "]\n",
    "\n",
    "gamma = 0.1  \n",
    "maxiter = 2000  \n",
    "\n",
    "V, W = neural(train_data, target_data, gamma, maxiter)\n"
   ]
  },
  {
   "cell_type": "code",
   "execution_count": 29,
   "metadata": {
    "scrolled": true
   },
   "outputs": [
    {
     "name": "stdout",
     "output_type": "stream",
     "text": [
      "Loss Function Value: 8.237802864245599e-07\n",
      "\n",
      "Input 1 Prediction: [[0. 0.]], Target: [0, 0]\n"
     ]
    }
   ],
   "source": [
    "\n",
    "def predict(input_data, V, W):\n",
    "\n",
    "    hidden_input = np.dot(input_data, V)  \n",
    "    hidden_output = sigmoid(hidden_input)  \n",
    "\n",
    "    final_input = np.dot(hidden_output, W)\n",
    "    final_output = sigmoid(final_input) \n",
    "    \n",
    "    return final_output\n",
    "\n",
    "\n",
    "train_data = [[1, 1, 1, 1, 1, 1, 0, 0, 0, 1, 1, 0, 0, 0, 0, 1, 0, 0, 0, 0, 1, 0, 0, 0, 0]]  # r   \n",
    "target_data = [[0, 0]] # r\n",
    "    \n",
    "gamma = 0.1  \n",
    "maxiter = 2000  \n",
    "\n",
    "\n",
    "V, W = neural(train_data, target_data, gamma, maxiter)\n",
    "\n",
    "prediction = np.round(predict(train_data, V, W))\n",
    "print(f\"\\nInput {i+1} Prediction: {prediction}, Target: {target_data[i]}\")"
   ]
  },
  {
   "cell_type": "code",
   "execution_count": 30,
   "metadata": {
    "scrolled": true
   },
   "outputs": [
    {
     "name": "stdout",
     "output_type": "stream",
     "text": [
      "Loss Function Value: 0.0004968270152311714\n",
      "\n",
      "Number of good predictions out of 100: 100\n"
     ]
    }
   ],
   "source": [
    "import numpy as np\n",
    "import random\n",
    "\n",
    "\n",
    "def sigmoid(x):\n",
    "    return 1 / (1 + np.exp(0.5-x))\n",
    "\n",
    "def predict(input_data, V, W):\n",
    "\n",
    "    hidden_input = np.dot(input_data, V)  \n",
    "    hidden_output = sigmoid(hidden_input)  \n",
    "\n",
    "    final_input = np.dot(hidden_output, W)\n",
    "    final_output = sigmoid(final_input) \n",
    "    \n",
    "    return final_output\n",
    "\n",
    "def change(data):\n",
    "\n",
    "    perturbed_data = data.copy() \n",
    "\n",
    "    flip_index = random.randint(0, len(data)-1)\n",
    "\n",
    "    perturbed_data[flip_index] = 1 - perturbed_data[flip_index]\n",
    "\n",
    "    return perturbed_data\n",
    "\n",
    "def perturbation_test(V, W, train_data, target_data,num_iterations=100,tolerance=0.1):\n",
    "    good_predictions = 0\n",
    "    original_data = train_data[0]  \n",
    "    target = target_data[0]  \n",
    "    \n",
    "    for _ in range(num_iterations):\n",
    "        \n",
    "        perturbed_data = change(original_data)\n",
    "\n",
    "        prediction = np.round(predict(perturbed_data, V, W))\n",
    " \n",
    "        if np.all(np.abs(prediction - target) < tolerance):\n",
    "            good_predictions += 1\n",
    "    \n",
    "    print(f\"\\nNumber of good predictions out of {num_iterations}: {good_predictions}\")\n",
    "\n",
    "train_data = [\n",
    "    [1, 1, 1, 1, 1, 1, 0, 0, 0, 1, 1, 0, 0, 0, 0, 1, 0, 0, 0, 0, 1, 0, 0, 0, 0],  # r\n",
    "    [1, 1, 1, 0, 0, 0, 1, 0, 0, 0, 0, 1, 0, 1, 1, 0, 0, 0, 1, 1, 0, 0, 0, 1, 1],  # i\n",
    "    [1, 1, 1, 1, 1, 1, 0, 0, 0, 0, 1, 1, 0, 0, 0, 1, 1, 0, 0, 1, 1, 0, 0, 0, 0],  # c\n",
    "    [1, 0, 0, 0, 1, 1, 0, 1, 1, 0, 1, 0, 0, 0, 1, 1, 0, 1, 1, 0, 1, 0, 1, 0, 1]   # e\n",
    "]\n",
    "\n",
    "target_data = [\n",
    "    [0, 0],  # r\n",
    "    [0, 1],  # i\n",
    "    [1, 0],  # c\n",
    "    [1, 1]   # e\n",
    "]\n",
    "gamma = 0.1  \n",
    "maxiter = 2000  \n",
    "\n",
    "\n",
    "V, W = neural(train_data, target_data, gamma, maxiter)\n",
    "\n",
    "\n",
    "perturbation_test(V, W, train_data, target_data)\n"
   ]
  },
  {
   "cell_type": "code",
   "execution_count": null,
   "metadata": {},
   "outputs": [],
   "source": []
  },
  {
   "cell_type": "code",
   "execution_count": null,
   "metadata": {},
   "outputs": [],
   "source": []
  }
 ],
 "metadata": {
  "kernelspec": {
   "display_name": "Python 3",
   "language": "python",
   "name": "python3"
  },
  "language_info": {
   "codemirror_mode": {
    "name": "ipython",
    "version": 3
   },
   "file_extension": ".py",
   "mimetype": "text/x-python",
   "name": "python",
   "nbconvert_exporter": "python",
   "pygments_lexer": "ipython3",
   "version": "3.7.0"
  }
 },
 "nbformat": 4,
 "nbformat_minor": 2
}
